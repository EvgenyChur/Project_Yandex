{
 "cells": [
  {
   "cell_type": "markdown",
   "metadata": {
    "id": "E0vqbgi9ay0H"
   },
   "source": [
    "# Yandex.Music"
   ]
  },
  {
   "cell_type": "markdown",
   "metadata": {},
   "source": [
    "**Study objective** - test three hypotheses:"
   ]
  },
  {
   "cell_type": "markdown",
   "metadata": {},
   "source": [
    "1. User activity depends on the day of the week. This is different in Moscow and St. Petersburg;\n",
    "2. On a Monday morning in Moscow some genres dominate and in St. Petersburg others. Friday nights are also dominated by different genres, depending on the city;\n",
    "3. Moscow and St. Petersburg prefer different genres of music. In Moscow they listen to pop music more often, in St. Petersburg - Russian rap."
   ]
  },
  {
   "cell_type": "markdown",
   "metadata": {},
   "source": [
    "**Study progress**"
   ]
  },
  {
   "cell_type": "markdown",
   "metadata": {},
   "source": [
    "Thus, the study will take place in three phases:\n",
    "1. Get and review of data. Data is available in file `yandex_music_project.csv`. The data quality is known.\n",
    " \n",
    "2. Pre-processing of the data. (Find gaps, duplicates and ets).\n",
    " \n",
    "3. Hypothesis testing."
   ]
  },
  {
   "cell_type": "markdown",
   "metadata": {
    "id": "VUC88oWjTJw2"
   },
   "source": [
    "## Data review"
   ]
  },
  {
   "cell_type": "code",
   "execution_count": 1,
   "metadata": {
    "id": "AXN7PHPN_Zcs"
   },
   "outputs": [
    {
     "data": {
      "text/html": [
       "<div>\n",
       "<style scoped>\n",
       "    .dataframe tbody tr th:only-of-type {\n",
       "        vertical-align: middle;\n",
       "    }\n",
       "\n",
       "    .dataframe tbody tr th {\n",
       "        vertical-align: top;\n",
       "    }\n",
       "\n",
       "    .dataframe thead th {\n",
       "        text-align: right;\n",
       "    }\n",
       "</style>\n",
       "<table border=\"1\" class=\"dataframe\">\n",
       "  <thead>\n",
       "    <tr style=\"text-align: right;\">\n",
       "      <th></th>\n",
       "      <th>userID</th>\n",
       "      <th>Track</th>\n",
       "      <th>artist</th>\n",
       "      <th>genre</th>\n",
       "      <th>City</th>\n",
       "      <th>time</th>\n",
       "      <th>Day</th>\n",
       "    </tr>\n",
       "  </thead>\n",
       "  <tbody>\n",
       "    <tr>\n",
       "      <th>0</th>\n",
       "      <td>FFB692EC</td>\n",
       "      <td>Kamigata To Boots</td>\n",
       "      <td>The Mass Missile</td>\n",
       "      <td>rock</td>\n",
       "      <td>Saint-Petersburg</td>\n",
       "      <td>20:28:33</td>\n",
       "      <td>Wednesday</td>\n",
       "    </tr>\n",
       "    <tr>\n",
       "      <th>1</th>\n",
       "      <td>55204538</td>\n",
       "      <td>Delayed Because of Accident</td>\n",
       "      <td>Andreas Rönnberg</td>\n",
       "      <td>rock</td>\n",
       "      <td>Moscow</td>\n",
       "      <td>14:07:09</td>\n",
       "      <td>Friday</td>\n",
       "    </tr>\n",
       "    <tr>\n",
       "      <th>2</th>\n",
       "      <td>20EC38</td>\n",
       "      <td>Funiculì funiculà</td>\n",
       "      <td>Mario Lanza</td>\n",
       "      <td>pop</td>\n",
       "      <td>Saint-Petersburg</td>\n",
       "      <td>20:58:07</td>\n",
       "      <td>Wednesday</td>\n",
       "    </tr>\n",
       "    <tr>\n",
       "      <th>3</th>\n",
       "      <td>A3DD03C9</td>\n",
       "      <td>Dragons in the Sunset</td>\n",
       "      <td>Fire + Ice</td>\n",
       "      <td>folk</td>\n",
       "      <td>Saint-Petersburg</td>\n",
       "      <td>08:37:09</td>\n",
       "      <td>Monday</td>\n",
       "    </tr>\n",
       "    <tr>\n",
       "      <th>4</th>\n",
       "      <td>E2DC1FAE</td>\n",
       "      <td>Soul People</td>\n",
       "      <td>Space Echo</td>\n",
       "      <td>dance</td>\n",
       "      <td>Moscow</td>\n",
       "      <td>08:34:34</td>\n",
       "      <td>Monday</td>\n",
       "    </tr>\n",
       "    <tr>\n",
       "      <th>5</th>\n",
       "      <td>842029A1</td>\n",
       "      <td>Преданная</td>\n",
       "      <td>IMPERVTOR</td>\n",
       "      <td>rusrap</td>\n",
       "      <td>Saint-Petersburg</td>\n",
       "      <td>13:09:41</td>\n",
       "      <td>Friday</td>\n",
       "    </tr>\n",
       "    <tr>\n",
       "      <th>6</th>\n",
       "      <td>4CB90AA5</td>\n",
       "      <td>True</td>\n",
       "      <td>Roman Messer</td>\n",
       "      <td>dance</td>\n",
       "      <td>Moscow</td>\n",
       "      <td>13:00:07</td>\n",
       "      <td>Wednesday</td>\n",
       "    </tr>\n",
       "    <tr>\n",
       "      <th>7</th>\n",
       "      <td>F03E1C1F</td>\n",
       "      <td>Feeling This Way</td>\n",
       "      <td>Polina Griffith</td>\n",
       "      <td>dance</td>\n",
       "      <td>Moscow</td>\n",
       "      <td>20:47:49</td>\n",
       "      <td>Wednesday</td>\n",
       "    </tr>\n",
       "    <tr>\n",
       "      <th>8</th>\n",
       "      <td>8FA1D3BE</td>\n",
       "      <td>И вновь продолжается бой</td>\n",
       "      <td>NaN</td>\n",
       "      <td>ruspop</td>\n",
       "      <td>Moscow</td>\n",
       "      <td>09:17:40</td>\n",
       "      <td>Friday</td>\n",
       "    </tr>\n",
       "    <tr>\n",
       "      <th>9</th>\n",
       "      <td>E772D5C0</td>\n",
       "      <td>Pessimist</td>\n",
       "      <td>NaN</td>\n",
       "      <td>dance</td>\n",
       "      <td>Saint-Petersburg</td>\n",
       "      <td>21:20:49</td>\n",
       "      <td>Wednesday</td>\n",
       "    </tr>\n",
       "  </tbody>\n",
       "</table>\n",
       "</div>"
      ],
      "text/plain": [
       "     userID                        Track            artist   genre  \\\n",
       "0  FFB692EC            Kamigata To Boots  The Mass Missile    rock   \n",
       "1  55204538  Delayed Because of Accident  Andreas Rönnberg    rock   \n",
       "2    20EC38            Funiculì funiculà       Mario Lanza     pop   \n",
       "3  A3DD03C9        Dragons in the Sunset        Fire + Ice    folk   \n",
       "4  E2DC1FAE                  Soul People        Space Echo   dance   \n",
       "5  842029A1                    Преданная         IMPERVTOR  rusrap   \n",
       "6  4CB90AA5                         True      Roman Messer   dance   \n",
       "7  F03E1C1F             Feeling This Way   Polina Griffith   dance   \n",
       "8  8FA1D3BE     И вновь продолжается бой               NaN  ruspop   \n",
       "9  E772D5C0                    Pessimist               NaN   dance   \n",
       "\n",
       "             City        time        Day  \n",
       "0  Saint-Petersburg  20:28:33  Wednesday  \n",
       "1            Moscow  14:07:09     Friday  \n",
       "2  Saint-Petersburg  20:58:07  Wednesday  \n",
       "3  Saint-Petersburg  08:37:09     Monday  \n",
       "4            Moscow  08:34:34     Monday  \n",
       "5  Saint-Petersburg  13:09:41     Friday  \n",
       "6            Moscow  13:00:07  Wednesday  \n",
       "7            Moscow  20:47:49  Wednesday  \n",
       "8            Moscow  09:17:40     Friday  \n",
       "9  Saint-Petersburg  21:20:49  Wednesday  "
      ]
     },
     "metadata": {},
     "output_type": "display_data"
    },
    {
     "name": "stdout",
     "output_type": "stream",
     "text": [
      "\n",
      "<class 'pandas.core.frame.DataFrame'>\n",
      "RangeIndex: 65079 entries, 0 to 65078\n",
      "Data columns (total 7 columns):\n",
      " #   Column    Non-Null Count  Dtype \n",
      "---  ------    --------------  ----- \n",
      " 0     userID  65079 non-null  object\n",
      " 1   Track     63848 non-null  object\n",
      " 2   artist    57876 non-null  object\n",
      " 3   genre     63881 non-null  object\n",
      " 4     City    65079 non-null  object\n",
      " 5   time      65079 non-null  object\n",
      " 6   Day       65079 non-null  object\n",
      "dtypes: object(7)\n",
      "memory usage: 3.5+ MB\n"
     ]
    }
   ],
   "source": [
    "import pandas as pd \n",
    "\n",
    "# Actual path\n",
    "data_path = 'C:/Users/Churiulin/Desktop/Yandex/Projects'\n",
    "\n",
    "# Get data\n",
    "df = pd.read_csv(f'{data_path}/music_project.csv')\n",
    "\n",
    "# Print top 10 lines\n",
    "display(df.head(10))\n",
    "print('')\n",
    "\n",
    "# Get common information about df\n",
    "df.info() "
   ]
  },
  {
   "cell_type": "markdown",
   "metadata": {},
   "source": [
    "So, there are seven columns in df. The data type in all columns is `object`.\n",
    "\n",
    "According to the data documentation:\n",
    "* `userID` - user ID;\n",
    "* `Track` - track name;  \n",
    "* `artist` - artist name;\n",
    "* `genre` - genre name;\n",
    "* `City` - user's city;\n",
    "* `time` - start time of listening;\n",
    "* `Day` - day of the week.\n",
    "\n",
    "In the names of the columns, three style violations can be seen:\n",
    "1. Small letters are combined with capital letters.\n",
    "2. Spaces occur.\n",
    "3. There are missing values in the data."
   ]
  },
  {
   "cell_type": "markdown",
   "metadata": {},
   "source": [
    "**Conclusions:**"
   ]
  },
  {
   "cell_type": "markdown",
   "metadata": {
    "id": "MCB6-dXG_Zct"
   },
   "source": [
    "Each row of the table contains data about the track you have listened to. Part of the columns describes the song itself: the title, the artist and the genre. The rest of the data tells about the user: what city the user is from, when the user listened to the music. Preliminarily it can be stated that, there is enough data to test hypotheses. But there are omissions in the data, and there are discrepancies with good style in the names of the speakers."
   ]
  },
  {
   "cell_type": "markdown",
   "metadata": {},
   "source": [
    "## Data pre-processing"
   ]
  },
  {
   "cell_type": "markdown",
   "metadata": {},
   "source": [
    "### Headline style"
   ]
  },
  {
   "cell_type": "code",
   "execution_count": 2,
   "metadata": {
    "id": "oKOTdF_Q_Zct"
   },
   "outputs": [
    {
     "data": {
      "text/plain": [
       "Index(['  userID', 'Track', 'artist', 'genre', '  City  ', 'time', 'Day'], dtype='object')"
      ]
     },
     "execution_count": 2,
     "metadata": {},
     "output_type": "execute_result"
    }
   ],
   "source": [
    "df.columns   # get columns name"
   ]
  },
  {
   "cell_type": "code",
   "execution_count": 3,
   "metadata": {
    "id": "ISlFqs5y_Zct"
   },
   "outputs": [
    {
     "data": {
      "text/plain": [
       "Index(['user_id', 'track', 'artist', 'genre', 'city', 'time', 'day'], dtype='object')"
      ]
     },
     "execution_count": 3,
     "metadata": {},
     "output_type": "execute_result"
    }
   ],
   "source": [
    "df = df.rename(columns = {'  userID' : 'user_id',\n",
    "                          'Track'    : 'track'  ,\n",
    "                          '  City  ' : 'city'   ,\n",
    "                          'Day'      : 'day'})\n",
    "df.columns"
   ]
  },
  {
   "cell_type": "markdown",
   "metadata": {},
   "source": [
    "### Missing values"
   ]
  },
  {
   "cell_type": "code",
   "execution_count": 4,
   "metadata": {
    "id": "RskX29qr_Zct"
   },
   "outputs": [
    {
     "name": "stdout",
     "output_type": "stream",
     "text": [
      "user_id       0\n",
      "track      1231\n",
      "artist     7203\n",
      "genre      1198\n",
      "city          0\n",
      "time          0\n",
      "day           0\n",
      "dtype: int64\n"
     ]
    }
   ],
   "source": [
    "print(df.isnull().sum()) # count missing values"
   ]
  },
  {
   "cell_type": "markdown",
   "metadata": {},
   "source": [
    "Replace the missing values in the `track`, `artist` and `genre` columns with the string `'unknown'`."
   ]
  },
  {
   "cell_type": "code",
   "execution_count": 5,
   "metadata": {
    "id": "KplB5qWs_Zct"
   },
   "outputs": [
    {
     "name": "stdout",
     "output_type": "stream",
     "text": [
      "user_id    0\n",
      "track      0\n",
      "artist     0\n",
      "genre      0\n",
      "city       0\n",
      "time       0\n",
      "day        0\n",
      "dtype: int64\n"
     ]
    }
   ],
   "source": [
    "columns_to_replace = ['track', 'artist', 'genre']\n",
    "\n",
    "for col in columns_to_replace:\n",
    "    df[col] = df[col].fillna('unknown')\n",
    "\n",
    "# Check missing values, again\n",
    "print(df.isnull().sum())"
   ]
  },
  {
   "cell_type": "markdown",
   "metadata": {},
   "source": [
    "### Duplicates"
   ]
  },
  {
   "cell_type": "code",
   "execution_count": 6,
   "metadata": {
    "id": "36eES_S0_Zct"
   },
   "outputs": [
    {
     "name": "stdout",
     "output_type": "stream",
     "text": [
      "3826\n"
     ]
    }
   ],
   "source": [
    "print(df.duplicated().sum())# count of obvious duplicates"
   ]
  },
  {
   "cell_type": "code",
   "execution_count": 7,
   "metadata": {
    "id": "exFHq6tt_Zct"
   },
   "outputs": [
    {
     "name": "stdout",
     "output_type": "stream",
     "text": [
      "0\n"
     ]
    }
   ],
   "source": [
    "# removal of obvious duplicates (with old indexes deleted and new indexes formed)\n",
    "df = df.drop_duplicates().reset_index(drop = True)\n",
    "\n",
    "# Check duplicates, again\n",
    "print(df.duplicated().sum())"
   ]
  },
  {
   "cell_type": "markdown",
   "metadata": {
    "id": "QlFBsxAr_Zct"
   },
   "source": [
    "Now get rid of the implicit duplicates in the `genre` column. For example, the name of the same genre may be written slightly differently. Such mistakes will also affect the result of the study."
   ]
  },
  {
   "cell_type": "code",
   "execution_count": 8,
   "metadata": {
    "id": "JIUcqzZN_Zct"
   },
   "outputs": [
    {
     "name": "stdout",
     "output_type": "stream",
     "text": [
      "['acid', 'acoustic', 'action', 'adult', 'africa', 'afrikaans', 'alternative', 'alternativepunk', 'ambient', 'americana', 'animated', 'anime', 'arabesk', 'arabic', 'arena', 'argentinetango', 'art', 'audiobook', 'author', 'avantgarde', 'axé', 'baile', 'balkan', 'beats', 'bigroom', 'black', 'bluegrass', 'blues', 'bollywood', 'bossa', 'brazilian', 'breakbeat', 'breaks', 'broadway', 'cantautori', 'cantopop', 'canzone', 'caribbean', 'caucasian', 'celtic', 'chamber', 'chanson', 'children', 'chill', 'chinese', 'choral', 'christian', 'christmas', 'classical', 'classicmetal', 'club', 'colombian', 'comedy', 'conjazz', 'contemporary', 'country', 'cuban', 'dance', 'dancehall', 'dancepop', 'dark', 'death', 'deep', 'deutschrock', 'deutschspr', 'dirty', 'disco', 'dnb', 'documentary', 'downbeat', 'downtempo', 'drum', 'dub', 'dubstep', 'eastern', 'easy', 'electronic', 'electropop', 'emo', 'entehno', 'epicmetal', 'estrada', 'ethnic', 'eurofolk', 'european', 'experimental', 'extrememetal', 'fado', 'fairytail', 'film', 'fitness', 'flamenco', 'folk', 'folklore', 'folkmetal', 'folkrock', 'folktronica', 'forró', 'frankreich', 'französisch', 'french', 'funk', 'future', 'gangsta', 'garage', 'german', 'ghazal', 'gitarre', 'glitch', 'gospel', 'gothic', 'grime', 'grunge', 'gypsy', 'handsup', \"hard'n'heavy\", 'hardcore', 'hardstyle', 'hardtechno', 'hip', 'hiphop', 'historisch', 'holiday', 'horror', 'house', 'hymn', 'idm', 'independent', 'indian', 'indie', 'indipop', 'industrial', 'inspirational', 'instrumental', 'international', 'irish', 'jam', 'japanese', 'jazz', 'jewish', 'jpop', 'jungle', 'k-pop', 'karadeniz', 'karaoke', 'kayokyoku', 'korean', 'laiko', 'latin', 'latino', 'leftfield', 'local', 'lounge', 'loungeelectronic', 'lovers', 'malaysian', 'mandopop', 'marschmusik', 'meditative', 'mediterranean', 'melodic', 'metal', 'metalcore', 'mexican', 'middle', 'minimal', 'miscellaneous', 'modern', 'mood', 'mpb', 'muslim', 'native', 'neoklassik', 'neue', 'new', 'newage', 'newwave', 'nu', 'nujazz', 'numetal', 'oceania', 'old', 'opera', 'orchestral', 'other', 'piano', 'podcasts', 'pop', 'popdance', 'popelectronic', 'popeurodance', 'poprussian', 'post', 'posthardcore', 'postrock', 'power', 'progmetal', 'progressive', 'psychedelic', 'punjabi', 'punk', 'quebecois', 'ragga', 'ram', 'rancheras', 'rap', 'rave', 'reggae', 'reggaeton', 'regional', 'relax', 'religious', 'retro', 'rhythm', 'rnb', 'rnr', 'rock', 'rockabilly', 'rockalternative', 'rockindie', 'rockother', 'romance', 'roots', 'ruspop', 'rusrap', 'rusrock', 'russian', 'salsa', 'samba', 'scenic', 'schlager', 'self', 'sertanejo', 'shanson', 'shoegazing', 'showtunes', 'singer', 'ska', 'skarock', 'slow', 'smooth', 'soft', 'soul', 'soulful', 'sound', 'soundtrack', 'southern', 'specialty', 'speech', 'spiritual', 'sport', 'stonerrock', 'surf', 'swing', 'synthpop', 'synthrock', 'sängerportrait', 'tango', 'tanzorchester', 'taraftar', 'tatar', 'tech', 'techno', 'teen', 'thrash', 'top', 'traditional', 'tradjazz', 'trance', 'tribal', 'trip', 'triphop', 'tropical', 'türk', 'türkçe', 'ukrrock', 'unknown', 'urban', 'uzbek', 'variété', 'vi', 'videogame', 'vocal', 'western', 'world', 'worldbeat', 'ïîï', 'электроника']\n"
     ]
    }
   ],
   "source": [
    "# Get unique gerne\n",
    "genres_list = df['genre'].unique() \n",
    "print(sorted(genres_list))"
   ]
  },
  {
   "cell_type": "markdown",
   "metadata": {},
   "source": [
    "There are implicit duplicates of `hiphop` genre:\n",
    "* *hip*,\n",
    "* *hop*,\n",
    "* *hip-hop*."
   ]
  },
  {
   "cell_type": "code",
   "execution_count": 9,
   "metadata": {
    "id": "ErNDkmns_Zct"
   },
   "outputs": [],
   "source": [
    "# 1. Function for replacing implicit duplicates\n",
    "#    Input parameters: `wrong_genres`  — duplicate list,\n",
    "#                      `correct_genre` — string with the correct value.\n",
    "#\n",
    "# task: The function should correct the `genre` column in table `df`: \n",
    "# replace each value from the `wrong_genres` list with a value from `correct_genre`.\n",
    "\n",
    "def replace_wrong_genres(wrong_genres, correct_genre):\n",
    "    for wrong in wrong_genres:\n",
    "        df['genre'] = df['genre'].replace(wrong, correct_genre)"
   ]
  },
  {
   "cell_type": "markdown",
   "metadata": {
    "id": "aDoBJxbA_Zct"
   },
   "source": [
    "Start corrections:"
   ]
  },
  {
   "cell_type": "code",
   "execution_count": 10,
   "metadata": {
    "id": "YN5i2hpmSo09"
   },
   "outputs": [
    {
     "name": "stdout",
     "output_type": "stream",
     "text": [
      "['acid', 'acoustic', 'action', 'adult', 'africa', 'afrikaans', 'alternative', 'alternativepunk', 'ambient', 'americana', 'animated', 'anime', 'arabesk', 'arabic', 'arena', 'argentinetango', 'art', 'audiobook', 'author', 'avantgarde', 'axé', 'baile', 'balkan', 'beats', 'bigroom', 'black', 'bluegrass', 'blues', 'bollywood', 'bossa', 'brazilian', 'breakbeat', 'breaks', 'broadway', 'cantautori', 'cantopop', 'canzone', 'caribbean', 'caucasian', 'celtic', 'chamber', 'chanson', 'children', 'chill', 'chinese', 'choral', 'christian', 'christmas', 'classical', 'classicmetal', 'club', 'colombian', 'comedy', 'conjazz', 'contemporary', 'country', 'cuban', 'dance', 'dancehall', 'dancepop', 'dark', 'death', 'deep', 'deutschrock', 'deutschspr', 'dirty', 'disco', 'dnb', 'documentary', 'downbeat', 'downtempo', 'drum', 'dub', 'dubstep', 'eastern', 'easy', 'electronic', 'electropop', 'emo', 'entehno', 'epicmetal', 'estrada', 'ethnic', 'eurofolk', 'european', 'experimental', 'extrememetal', 'fado', 'fairytail', 'film', 'fitness', 'flamenco', 'folk', 'folklore', 'folkmetal', 'folkrock', 'folktronica', 'forró', 'frankreich', 'französisch', 'french', 'funk', 'future', 'gangsta', 'garage', 'german', 'ghazal', 'gitarre', 'glitch', 'gospel', 'gothic', 'grime', 'grunge', 'gypsy', 'handsup', \"hard'n'heavy\", 'hardcore', 'hardstyle', 'hardtechno', 'hiphop', 'historisch', 'holiday', 'horror', 'house', 'hymn', 'idm', 'independent', 'indian', 'indie', 'indipop', 'industrial', 'inspirational', 'instrumental', 'international', 'irish', 'jam', 'japanese', 'jazz', 'jewish', 'jpop', 'jungle', 'k-pop', 'karadeniz', 'karaoke', 'kayokyoku', 'korean', 'laiko', 'latin', 'latino', 'leftfield', 'local', 'lounge', 'loungeelectronic', 'lovers', 'malaysian', 'mandopop', 'marschmusik', 'meditative', 'mediterranean', 'melodic', 'metal', 'metalcore', 'mexican', 'middle', 'minimal', 'miscellaneous', 'modern', 'mood', 'mpb', 'muslim', 'native', 'neoklassik', 'neue', 'new', 'newage', 'newwave', 'nu', 'nujazz', 'numetal', 'oceania', 'old', 'opera', 'orchestral', 'other', 'piano', 'podcasts', 'pop', 'popdance', 'popelectronic', 'popeurodance', 'poprussian', 'post', 'posthardcore', 'postrock', 'power', 'progmetal', 'progressive', 'psychedelic', 'punjabi', 'punk', 'quebecois', 'ragga', 'ram', 'rancheras', 'rap', 'rave', 'reggae', 'reggaeton', 'regional', 'relax', 'religious', 'retro', 'rhythm', 'rnb', 'rnr', 'rock', 'rockabilly', 'rockalternative', 'rockindie', 'rockother', 'romance', 'roots', 'ruspop', 'rusrap', 'rusrock', 'russian', 'salsa', 'samba', 'scenic', 'schlager', 'self', 'sertanejo', 'shanson', 'shoegazing', 'showtunes', 'singer', 'ska', 'skarock', 'slow', 'smooth', 'soft', 'soul', 'soulful', 'sound', 'soundtrack', 'southern', 'specialty', 'speech', 'spiritual', 'sport', 'stonerrock', 'surf', 'swing', 'synthpop', 'synthrock', 'sängerportrait', 'tango', 'tanzorchester', 'taraftar', 'tatar', 'tech', 'techno', 'teen', 'thrash', 'top', 'traditional', 'tradjazz', 'trance', 'tribal', 'trip', 'triphop', 'tropical', 'türk', 'türkçe', 'ukrrock', 'unknown', 'urban', 'uzbek', 'variété', 'vi', 'videogame', 'vocal', 'western', 'world', 'worldbeat', 'ïîï', 'электроника']\n"
     ]
    }
   ],
   "source": [
    "duplicates = ['hip', 'hop', 'hip-hop'] # list of incorrect genre names\n",
    "correct = 'hiphop'                     # correct genre name\n",
    "\n",
    "# Eliminating implicit duplicates\n",
    "replace_wrong_genres(duplicates, correct)\n",
    "\n",
    "# Check implicit duplicates, again\n",
    "genres_list = df['genre'].unique() \n",
    "print(sorted(genres_list))  "
   ]
  },
  {
   "cell_type": "code",
   "execution_count": 11,
   "metadata": {},
   "outputs": [
    {
     "name": "stdout",
     "output_type": "stream",
     "text": [
      "<class 'pandas.core.frame.DataFrame'>\n",
      "RangeIndex: 61253 entries, 0 to 61252\n",
      "Data columns (total 7 columns):\n",
      " #   Column   Non-Null Count  Dtype \n",
      "---  ------   --------------  ----- \n",
      " 0   user_id  61253 non-null  object\n",
      " 1   track    61253 non-null  object\n",
      " 2   artist   61253 non-null  object\n",
      " 3   genre    61253 non-null  object\n",
      " 4   city     61253 non-null  object\n",
      " 5   time     61253 non-null  object\n",
      " 6   day      61253 non-null  object\n",
      "dtypes: object(7)\n",
      "memory usage: 3.3+ MB\n"
     ]
    }
   ],
   "source": [
    "# Check data, again\n",
    "df.info()"
   ]
  },
  {
   "cell_type": "markdown",
   "metadata": {},
   "source": [
    "**Conclusions:**"
   ]
  },
  {
   "cell_type": "markdown",
   "metadata": {
    "id": "jz6a9-7HQUDd"
   },
   "source": [
    "Pre-processing detected three problems in the data:\n",
    "\n",
    "- header style irregularities,\n",
    "- missing values,\n",
    "- duplicates - explicit and implicit.\n",
    "\n",
    "Corrected the headers to make the table easier to work with, removed duplicates, and replaced missing values with `'unknown'`. "
   ]
  },
  {
   "cell_type": "markdown",
   "metadata": {},
   "source": [
    "## Hypothesis testing"
   ]
  },
  {
   "cell_type": "markdown",
   "metadata": {},
   "source": [
    "### Comparing user behaviour in the two capitals"
   ]
  },
  {
   "cell_type": "markdown",
   "metadata": {
    "id": "nwt_MuaL_Zcu"
   },
   "source": [
    "The first hypothesis states that users listen to music differently in Moscow and St. Petersburg. Check this assumption with data from three days of the week - Monday, Wednesday and Friday. "
   ]
  },
  {
   "cell_type": "code",
   "execution_count": 12,
   "metadata": {
    "id": "0_Qs96oh_Zcu"
   },
   "outputs": [
    {
     "name": "stdout",
     "output_type": "stream",
     "text": [
      "city\n",
      "Moscow              42741\n",
      "Saint-Petersburg    18512\n",
      "Name: genre, dtype: int64\n"
     ]
    }
   ],
   "source": [
    "city = df.groupby('city')['genre'].count() # Counting auditions in each city\n",
    "print(city)"
   ]
  },
  {
   "cell_type": "markdown",
   "metadata": {
    "id": "dzli3w8o_Zcu"
   },
   "source": [
    "There are more listens in Moscow than in St. Petersburg. It doesn't follow that Moscow users listen to music more often. It's just that there are more users in Moscow.\n",
    "\n",
    "Now group the data by day of the week and count listening on Monday, Wednesday and Friday. Note that the data have information only about the listening on those days.\n"
   ]
  },
  {
   "cell_type": "code",
   "execution_count": 13,
   "metadata": {
    "id": "uZMKjiJz_Zcu"
   },
   "outputs": [
    {
     "name": "stdout",
     "output_type": "stream",
     "text": [
      "day\n",
      "Friday       21840\n",
      "Monday       21354\n",
      "Wednesday    18059\n",
      "Name: genre, dtype: int64\n"
     ]
    }
   ],
   "source": [
    "day = df.groupby('day')['genre'].count() # Counting auditions on each of the three days\n",
    "print(day)"
   ]
  },
  {
   "cell_type": "markdown",
   "metadata": {
    "id": "cC2tNrlL_Zcu"
   },
   "source": [
    "On average, users from the two cities are less active on Wednesdays. But the picture can change if we look at each city separately. We have seen how grouping by city and by day of the week works. Now we can write a function that combines these two calculations."
   ]
  },
  {
   "cell_type": "code",
   "execution_count": 14,
   "metadata": {
    "id": "Nz3GdQB1_Zcu"
   },
   "outputs": [],
   "source": [
    "# 2. Function `number_tracks()`,  which will count the auditions for a given day and city.\n",
    "#    Input  parameters: df, weekday and city name\n",
    "#    Output paremeters: track_list_count\n",
    "\n",
    "def number_tracks(df, day, city): \n",
    "    track_list = df[(df['day'] == day) & (df['city'] == city)]\n",
    "    track_list_count = track_list['user_id'].count()\n",
    "    return track_list_count"
   ]
  },
  {
   "cell_type": "code",
   "execution_count": 15,
   "metadata": {
    "id": "rJcRATNQ_Zcu"
   },
   "outputs": [
    {
     "name": "stdout",
     "output_type": "stream",
     "text": [
      "number of auditions in Moscow on Mondays: 15740 \n",
      "\n",
      "number of auditions in Moscow on Wednesdays: 11056 \n",
      "\n",
      "number of auditions in Moscow on Fridays: 15945 \n",
      "\n",
      "number of auditions in St Petersburg on Mondays: 5614 \n",
      "\n",
      "number of auditions in St Petersburg on Wednesdays: 7003 \n",
      "\n",
      "number of auditions in St Petersburg on Fridays: 5895 \n",
      "\n"
     ]
    }
   ],
   "source": [
    "# get data for Moscow on Monday\n",
    "msk_mon  = number_tracks(df, 'Monday','Moscow')\n",
    "print(f'number of auditions in Moscow on Mondays: {msk_mon}', '\\n')\n",
    "\n",
    "# get data for Moscow on Wednesday\n",
    "msk_wen  = number_tracks(df, 'Wednesday','Moscow')\n",
    "print(f'number of auditions in Moscow on Wednesdays: {msk_wen}', '\\n')\n",
    "\n",
    "# get data for Moscow on Friday\n",
    "msk_fri  = number_tracks(df, 'Friday','Moscow')\n",
    "print(f'number of auditions in Moscow on Fridays: {msk_fri}', '\\n')\n",
    "\n",
    "# get data for Saint-Petersburg on Monday\n",
    "spb_mon = number_tracks(df, 'Monday','Saint-Petersburg') \n",
    "print(f'number of auditions in St Petersburg on Mondays: {spb_mon}', '\\n')\n",
    "\n",
    "# get data for Saint-Petersburg on Wednesday\n",
    "spb_wen = number_tracks(df, 'Wednesday','Saint-Petersburg')\n",
    "print(f'number of auditions in St Petersburg on Wednesdays: {spb_wen}', '\\n')\n",
    "\n",
    "# get data for Saint-Petersburg on Friday\n",
    "spb_fri = number_tracks(df, 'Friday','Saint-Petersburg')\n",
    "print(f'number of auditions in St Petersburg on Fridays: {spb_fri}', '\\n')"
   ]
  },
  {
   "cell_type": "markdown",
   "metadata": {
    "id": "7QXffbO-_Zcu"
   },
   "source": [
    "Create table based on `pd.DataFrame`, where\n",
    "* column names — `['city', 'monday', 'wednesday', 'friday']`;\n",
    "* data - the results from `number_tracks`."
   ]
  },
  {
   "cell_type": "code",
   "execution_count": 16,
   "metadata": {
    "id": "APAcLpOr_Zcu"
   },
   "outputs": [
    {
     "data": {
      "text/html": [
       "<div>\n",
       "<style scoped>\n",
       "    .dataframe tbody tr th:only-of-type {\n",
       "        vertical-align: middle;\n",
       "    }\n",
       "\n",
       "    .dataframe tbody tr th {\n",
       "        vertical-align: top;\n",
       "    }\n",
       "\n",
       "    .dataframe thead th {\n",
       "        text-align: right;\n",
       "    }\n",
       "</style>\n",
       "<table border=\"1\" class=\"dataframe\">\n",
       "  <thead>\n",
       "    <tr style=\"text-align: right;\">\n",
       "      <th></th>\n",
       "      <th>city</th>\n",
       "      <th>monday</th>\n",
       "      <th>wednesday</th>\n",
       "      <th>friday</th>\n",
       "    </tr>\n",
       "  </thead>\n",
       "  <tbody>\n",
       "    <tr>\n",
       "      <th>0</th>\n",
       "      <td>Moscow</td>\n",
       "      <td>15740</td>\n",
       "      <td>11056</td>\n",
       "      <td>15945</td>\n",
       "    </tr>\n",
       "    <tr>\n",
       "      <th>1</th>\n",
       "      <td>Saint-Petersburg</td>\n",
       "      <td>5614</td>\n",
       "      <td>7003</td>\n",
       "      <td>5895</td>\n",
       "    </tr>\n",
       "  </tbody>\n",
       "</table>\n",
       "</div>"
      ],
      "text/plain": [
       "               city  monday  wednesday  friday\n",
       "0            Moscow   15740      11056   15945\n",
       "1  Saint-Petersburg    5614       7003    5895"
      ]
     },
     "metadata": {},
     "output_type": "display_data"
    }
   ],
   "source": [
    "columns = ['city', 'monday', 'wednesday', 'friday'] \n",
    "\n",
    "data    = [['Moscow'          , msk_mon, msk_wen, msk_fri],\n",
    "           ['Saint-Petersburg', spb_mon, spb_wen, spb_fri]]\n",
    "\n",
    "table = pd.DataFrame(data=data, columns=columns)# <таблица с полученными данными>\n",
    "display(table)# Таблица с результатами"
   ]
  },
  {
   "cell_type": "markdown",
   "metadata": {},
   "source": [
    "**Conclusions**"
   ]
  },
  {
   "cell_type": "markdown",
   "metadata": {
    "id": "-EgPIHYu_Zcu"
   },
   "source": [
    "The data show a difference in user behaviour:\n",
    "\n",
    "- In Moscow, listening peaks on Mondays and Fridays, with a noticeable decline on Wednesdays.\n",
    "- In St. Petersburg, on the contrary, more music is listened to on Wednesdays. The activity on Monday and Friday here is almost equally inferior to that on Wednesdays.\n",
    "\n",
    "So the data are in favour of the first hypothesis."
   ]
  },
  {
   "cell_type": "markdown",
   "metadata": {},
   "source": [
    "### Music at the beginning and at the end of the week"
   ]
  },
  {
   "cell_type": "markdown",
   "metadata": {
    "id": "eXrQqXFH_Zcu"
   },
   "source": [
    "According to the second hypothesis, on a Monday morning some genres dominate in Moscow and others in St. Petersburg. Likewise, Friday evenings are dominated by different genres - depending on the city."
   ]
  },
  {
   "cell_type": "code",
   "execution_count": 17,
   "metadata": {
    "id": "qeaFfM_P_Zcu"
   },
   "outputs": [
    {
     "data": {
      "text/html": [
       "<div>\n",
       "<style scoped>\n",
       "    .dataframe tbody tr th:only-of-type {\n",
       "        vertical-align: middle;\n",
       "    }\n",
       "\n",
       "    .dataframe tbody tr th {\n",
       "        vertical-align: top;\n",
       "    }\n",
       "\n",
       "    .dataframe thead th {\n",
       "        text-align: right;\n",
       "    }\n",
       "</style>\n",
       "<table border=\"1\" class=\"dataframe\">\n",
       "  <thead>\n",
       "    <tr style=\"text-align: right;\">\n",
       "      <th></th>\n",
       "      <th>user_id</th>\n",
       "      <th>track</th>\n",
       "      <th>artist</th>\n",
       "      <th>genre</th>\n",
       "      <th>city</th>\n",
       "      <th>time</th>\n",
       "      <th>day</th>\n",
       "    </tr>\n",
       "  </thead>\n",
       "  <tbody>\n",
       "    <tr>\n",
       "      <th>1</th>\n",
       "      <td>55204538</td>\n",
       "      <td>Delayed Because of Accident</td>\n",
       "      <td>Andreas Rönnberg</td>\n",
       "      <td>rock</td>\n",
       "      <td>Moscow</td>\n",
       "      <td>14:07:09</td>\n",
       "      <td>Friday</td>\n",
       "    </tr>\n",
       "    <tr>\n",
       "      <th>4</th>\n",
       "      <td>E2DC1FAE</td>\n",
       "      <td>Soul People</td>\n",
       "      <td>Space Echo</td>\n",
       "      <td>dance</td>\n",
       "      <td>Moscow</td>\n",
       "      <td>08:34:34</td>\n",
       "      <td>Monday</td>\n",
       "    </tr>\n",
       "    <tr>\n",
       "      <th>6</th>\n",
       "      <td>4CB90AA5</td>\n",
       "      <td>True</td>\n",
       "      <td>Roman Messer</td>\n",
       "      <td>dance</td>\n",
       "      <td>Moscow</td>\n",
       "      <td>13:00:07</td>\n",
       "      <td>Wednesday</td>\n",
       "    </tr>\n",
       "    <tr>\n",
       "      <th>7</th>\n",
       "      <td>F03E1C1F</td>\n",
       "      <td>Feeling This Way</td>\n",
       "      <td>Polina Griffith</td>\n",
       "      <td>dance</td>\n",
       "      <td>Moscow</td>\n",
       "      <td>20:47:49</td>\n",
       "      <td>Wednesday</td>\n",
       "    </tr>\n",
       "    <tr>\n",
       "      <th>8</th>\n",
       "      <td>8FA1D3BE</td>\n",
       "      <td>И вновь продолжается бой</td>\n",
       "      <td>unknown</td>\n",
       "      <td>ruspop</td>\n",
       "      <td>Moscow</td>\n",
       "      <td>09:17:40</td>\n",
       "      <td>Friday</td>\n",
       "    </tr>\n",
       "    <tr>\n",
       "      <th>...</th>\n",
       "      <td>...</td>\n",
       "      <td>...</td>\n",
       "      <td>...</td>\n",
       "      <td>...</td>\n",
       "      <td>...</td>\n",
       "      <td>...</td>\n",
       "      <td>...</td>\n",
       "    </tr>\n",
       "    <tr>\n",
       "      <th>61247</th>\n",
       "      <td>83A474E7</td>\n",
       "      <td>I Worship Only What You Bleed</td>\n",
       "      <td>The Black Dahlia Murder</td>\n",
       "      <td>extrememetal</td>\n",
       "      <td>Moscow</td>\n",
       "      <td>21:07:12</td>\n",
       "      <td>Monday</td>\n",
       "    </tr>\n",
       "    <tr>\n",
       "      <th>61248</th>\n",
       "      <td>729CBB09</td>\n",
       "      <td>My Name</td>\n",
       "      <td>McLean</td>\n",
       "      <td>rnb</td>\n",
       "      <td>Moscow</td>\n",
       "      <td>13:32:28</td>\n",
       "      <td>Wednesday</td>\n",
       "    </tr>\n",
       "    <tr>\n",
       "      <th>61250</th>\n",
       "      <td>C5E3A0D5</td>\n",
       "      <td>Jalopiina</td>\n",
       "      <td>unknown</td>\n",
       "      <td>industrial</td>\n",
       "      <td>Moscow</td>\n",
       "      <td>20:09:26</td>\n",
       "      <td>Friday</td>\n",
       "    </tr>\n",
       "    <tr>\n",
       "      <th>61251</th>\n",
       "      <td>321D0506</td>\n",
       "      <td>Freight Train</td>\n",
       "      <td>Chas McDevitt</td>\n",
       "      <td>rock</td>\n",
       "      <td>Moscow</td>\n",
       "      <td>21:43:59</td>\n",
       "      <td>Friday</td>\n",
       "    </tr>\n",
       "    <tr>\n",
       "      <th>61252</th>\n",
       "      <td>3A64EF84</td>\n",
       "      <td>Tell Me Sweet Little Lies</td>\n",
       "      <td>Monica Lopez</td>\n",
       "      <td>country</td>\n",
       "      <td>Moscow</td>\n",
       "      <td>21:59:46</td>\n",
       "      <td>Friday</td>\n",
       "    </tr>\n",
       "  </tbody>\n",
       "</table>\n",
       "<p>42741 rows × 7 columns</p>\n",
       "</div>"
      ],
      "text/plain": [
       "        user_id                          track                   artist  \\\n",
       "1      55204538    Delayed Because of Accident         Andreas Rönnberg   \n",
       "4      E2DC1FAE                    Soul People               Space Echo   \n",
       "6      4CB90AA5                           True             Roman Messer   \n",
       "7      F03E1C1F               Feeling This Way          Polina Griffith   \n",
       "8      8FA1D3BE       И вновь продолжается бой                  unknown   \n",
       "...         ...                            ...                      ...   \n",
       "61247  83A474E7  I Worship Only What You Bleed  The Black Dahlia Murder   \n",
       "61248  729CBB09                        My Name                   McLean   \n",
       "61250  C5E3A0D5                      Jalopiina                  unknown   \n",
       "61251  321D0506                  Freight Train            Chas McDevitt   \n",
       "61252  3A64EF84      Tell Me Sweet Little Lies             Monica Lopez   \n",
       "\n",
       "              genre    city      time        day  \n",
       "1              rock  Moscow  14:07:09     Friday  \n",
       "4             dance  Moscow  08:34:34     Monday  \n",
       "6             dance  Moscow  13:00:07  Wednesday  \n",
       "7             dance  Moscow  20:47:49  Wednesday  \n",
       "8            ruspop  Moscow  09:17:40     Friday  \n",
       "...             ...     ...       ...        ...  \n",
       "61247  extrememetal  Moscow  21:07:12     Monday  \n",
       "61248           rnb  Moscow  13:32:28  Wednesday  \n",
       "61250    industrial  Moscow  20:09:26     Friday  \n",
       "61251          rock  Moscow  21:43:59     Friday  \n",
       "61252       country  Moscow  21:59:46     Friday  \n",
       "\n",
       "[42741 rows x 7 columns]"
      ]
     },
     "execution_count": 17,
     "metadata": {},
     "output_type": "execute_result"
    }
   ],
   "source": [
    "moscow_general = df[df['city'] == 'Moscow'] \n",
    "moscow_general                              "
   ]
  },
  {
   "cell_type": "code",
   "execution_count": 18,
   "metadata": {
    "id": "ORaVRKto_Zcu"
   },
   "outputs": [
    {
     "data": {
      "text/html": [
       "<div>\n",
       "<style scoped>\n",
       "    .dataframe tbody tr th:only-of-type {\n",
       "        vertical-align: middle;\n",
       "    }\n",
       "\n",
       "    .dataframe tbody tr th {\n",
       "        vertical-align: top;\n",
       "    }\n",
       "\n",
       "    .dataframe thead th {\n",
       "        text-align: right;\n",
       "    }\n",
       "</style>\n",
       "<table border=\"1\" class=\"dataframe\">\n",
       "  <thead>\n",
       "    <tr style=\"text-align: right;\">\n",
       "      <th></th>\n",
       "      <th>user_id</th>\n",
       "      <th>track</th>\n",
       "      <th>artist</th>\n",
       "      <th>genre</th>\n",
       "      <th>city</th>\n",
       "      <th>time</th>\n",
       "      <th>day</th>\n",
       "    </tr>\n",
       "  </thead>\n",
       "  <tbody>\n",
       "    <tr>\n",
       "      <th>0</th>\n",
       "      <td>FFB692EC</td>\n",
       "      <td>Kamigata To Boots</td>\n",
       "      <td>The Mass Missile</td>\n",
       "      <td>rock</td>\n",
       "      <td>Saint-Petersburg</td>\n",
       "      <td>20:28:33</td>\n",
       "      <td>Wednesday</td>\n",
       "    </tr>\n",
       "    <tr>\n",
       "      <th>2</th>\n",
       "      <td>20EC38</td>\n",
       "      <td>Funiculì funiculà</td>\n",
       "      <td>Mario Lanza</td>\n",
       "      <td>pop</td>\n",
       "      <td>Saint-Petersburg</td>\n",
       "      <td>20:58:07</td>\n",
       "      <td>Wednesday</td>\n",
       "    </tr>\n",
       "    <tr>\n",
       "      <th>3</th>\n",
       "      <td>A3DD03C9</td>\n",
       "      <td>Dragons in the Sunset</td>\n",
       "      <td>Fire + Ice</td>\n",
       "      <td>folk</td>\n",
       "      <td>Saint-Petersburg</td>\n",
       "      <td>08:37:09</td>\n",
       "      <td>Monday</td>\n",
       "    </tr>\n",
       "    <tr>\n",
       "      <th>5</th>\n",
       "      <td>842029A1</td>\n",
       "      <td>Преданная</td>\n",
       "      <td>IMPERVTOR</td>\n",
       "      <td>rusrap</td>\n",
       "      <td>Saint-Petersburg</td>\n",
       "      <td>13:09:41</td>\n",
       "      <td>Friday</td>\n",
       "    </tr>\n",
       "    <tr>\n",
       "      <th>9</th>\n",
       "      <td>E772D5C0</td>\n",
       "      <td>Pessimist</td>\n",
       "      <td>unknown</td>\n",
       "      <td>dance</td>\n",
       "      <td>Saint-Petersburg</td>\n",
       "      <td>21:20:49</td>\n",
       "      <td>Wednesday</td>\n",
       "    </tr>\n",
       "    <tr>\n",
       "      <th>...</th>\n",
       "      <td>...</td>\n",
       "      <td>...</td>\n",
       "      <td>...</td>\n",
       "      <td>...</td>\n",
       "      <td>...</td>\n",
       "      <td>...</td>\n",
       "      <td>...</td>\n",
       "    </tr>\n",
       "    <tr>\n",
       "      <th>61239</th>\n",
       "      <td>D94F810B</td>\n",
       "      <td>Theme from the Walking Dead</td>\n",
       "      <td>Proyecto Halloween</td>\n",
       "      <td>film</td>\n",
       "      <td>Saint-Petersburg</td>\n",
       "      <td>21:14:40</td>\n",
       "      <td>Monday</td>\n",
       "    </tr>\n",
       "    <tr>\n",
       "      <th>61240</th>\n",
       "      <td>BC8EC5CF</td>\n",
       "      <td>Red Lips: Gta (Rover Rework)</td>\n",
       "      <td>Rover</td>\n",
       "      <td>electronic</td>\n",
       "      <td>Saint-Petersburg</td>\n",
       "      <td>21:06:50</td>\n",
       "      <td>Monday</td>\n",
       "    </tr>\n",
       "    <tr>\n",
       "      <th>61241</th>\n",
       "      <td>29E04611</td>\n",
       "      <td>Bre Petrunko</td>\n",
       "      <td>Perunika Trio</td>\n",
       "      <td>world</td>\n",
       "      <td>Saint-Petersburg</td>\n",
       "      <td>13:56:00</td>\n",
       "      <td>Monday</td>\n",
       "    </tr>\n",
       "    <tr>\n",
       "      <th>61242</th>\n",
       "      <td>1B91C621</td>\n",
       "      <td>(Hello) Cloud Mountain</td>\n",
       "      <td>sleepmakeswaves</td>\n",
       "      <td>postrock</td>\n",
       "      <td>Saint-Petersburg</td>\n",
       "      <td>09:22:13</td>\n",
       "      <td>Monday</td>\n",
       "    </tr>\n",
       "    <tr>\n",
       "      <th>61249</th>\n",
       "      <td>D08D4A55</td>\n",
       "      <td>Maybe One Day (feat. Black Spade)</td>\n",
       "      <td>Blu &amp; Exile</td>\n",
       "      <td>hiphop</td>\n",
       "      <td>Saint-Petersburg</td>\n",
       "      <td>10:00:00</td>\n",
       "      <td>Monday</td>\n",
       "    </tr>\n",
       "  </tbody>\n",
       "</table>\n",
       "<p>18512 rows × 7 columns</p>\n",
       "</div>"
      ],
      "text/plain": [
       "        user_id                              track              artist  \\\n",
       "0      FFB692EC                  Kamigata To Boots    The Mass Missile   \n",
       "2        20EC38                  Funiculì funiculà         Mario Lanza   \n",
       "3      A3DD03C9              Dragons in the Sunset          Fire + Ice   \n",
       "5      842029A1                          Преданная           IMPERVTOR   \n",
       "9      E772D5C0                          Pessimist             unknown   \n",
       "...         ...                                ...                 ...   \n",
       "61239  D94F810B        Theme from the Walking Dead  Proyecto Halloween   \n",
       "61240  BC8EC5CF       Red Lips: Gta (Rover Rework)               Rover   \n",
       "61241  29E04611                       Bre Petrunko       Perunika Trio   \n",
       "61242  1B91C621             (Hello) Cloud Mountain     sleepmakeswaves   \n",
       "61249  D08D4A55  Maybe One Day (feat. Black Spade)         Blu & Exile   \n",
       "\n",
       "            genre              city      time        day  \n",
       "0            rock  Saint-Petersburg  20:28:33  Wednesday  \n",
       "2             pop  Saint-Petersburg  20:58:07  Wednesday  \n",
       "3            folk  Saint-Petersburg  08:37:09     Monday  \n",
       "5          rusrap  Saint-Petersburg  13:09:41     Friday  \n",
       "9           dance  Saint-Petersburg  21:20:49  Wednesday  \n",
       "...           ...               ...       ...        ...  \n",
       "61239        film  Saint-Petersburg  21:14:40     Monday  \n",
       "61240  electronic  Saint-Petersburg  21:06:50     Monday  \n",
       "61241       world  Saint-Petersburg  13:56:00     Monday  \n",
       "61242    postrock  Saint-Petersburg  09:22:13     Monday  \n",
       "61249      hiphop  Saint-Petersburg  10:00:00     Monday  \n",
       "\n",
       "[18512 rows x 7 columns]"
      ]
     },
     "execution_count": 18,
     "metadata": {},
     "output_type": "execute_result"
    }
   ],
   "source": [
    "spb_general = df[df['city'] == 'Saint-Petersburg']\n",
    "spb_general"
   ]
  },
  {
   "cell_type": "markdown",
   "metadata": {},
   "source": [
    "Let's compare the results of `genre_weekday()` for **Moscow** and **St. Petersburg** on Monday morning (from 7:00 to 11:00) and Friday evening (from 17:00 to 23:00):"
   ]
  },
  {
   "cell_type": "code",
   "execution_count": 19,
   "metadata": {
    "id": "laJT9BYl_Zcu"
   },
   "outputs": [],
   "source": [
    "# 2. Function `genre_weekday` - The function should return information about the top 10 genres \n",
    "#    of those tracks listened to on a given day, between the two time stamps.\n",
    "#\n",
    "#    Input parameters:  table - table with data\n",
    "#                       day   - weekday\n",
    "#                       time1 - an initial timestamp in 'hh:mm' format,\n",
    "#                       time2 - the last timestamp in the format 'hh:mm'.\n",
    "#    Output parameters: genre_df_sorted - top 10 gerne\n",
    "           \n",
    "def genre_weekday(table, day, time1, time2):\n",
    "    genre_df = table[(table['day'] == day) & (table['time'] > time1) & (table['time'] <= time2)]\n",
    "    genre_df_count  = genre_df.groupby('genre')['genre'].count()\n",
    "    genre_df_sorted = genre_df_count.sort_values(ascending = False).head(10)\n",
    "    return genre_df_sorted    "
   ]
  },
  {
   "cell_type": "code",
   "execution_count": 20,
   "metadata": {
    "id": "yz7itPUQ_Zcu"
   },
   "outputs": [
    {
     "name": "stdout",
     "output_type": "stream",
     "text": [
      "Moscow Monday\n",
      "genre\n",
      "pop            781\n",
      "dance          549\n",
      "electronic     480\n",
      "rock           474\n",
      "hiphop         286\n",
      "ruspop         186\n",
      "world          181\n",
      "rusrap         175\n",
      "alternative    164\n",
      "unknown        161\n",
      "Name: genre, dtype: int64 \n",
      "\n",
      "St. Petersburg Monday\n",
      "genre\n",
      "pop            218\n",
      "dance          182\n",
      "rock           162\n",
      "electronic     147\n",
      "hiphop          80\n",
      "ruspop          64\n",
      "alternative     58\n",
      "rusrap          55\n",
      "jazz            44\n",
      "classical       40\n",
      "Name: genre, dtype: int64 \n",
      "\n",
      "Moscow Friday\n",
      "genre\n",
      "pop            713\n",
      "rock           517\n",
      "dance          495\n",
      "electronic     482\n",
      "hiphop         273\n",
      "world          208\n",
      "ruspop         170\n",
      "alternative    163\n",
      "classical      163\n",
      "rusrap         142\n",
      "Name: genre, dtype: int64 \n",
      "\n",
      "St. Petersburg Friday\n",
      "genre\n",
      "pop            256\n",
      "rock           216\n",
      "electronic     216\n",
      "dance          210\n",
      "hiphop          97\n",
      "alternative     63\n",
      "jazz            61\n",
      "classical       60\n",
      "rusrap          59\n",
      "world           54\n",
      "Name: genre, dtype: int64 \n",
      "\n"
     ]
    }
   ],
   "source": [
    "print('Moscow Monday')\n",
    "print(genre_weekday(moscow_general, 'Monday', '07:00:00', '11:00:00'), '\\n')\n",
    "\n",
    "print('St. Petersburg Monday')\n",
    "print(genre_weekday(spb_general   , 'Monday', '07:00:00', '11:00:00'), '\\n')\n",
    "\n",
    "print('Moscow Friday')\n",
    "print(genre_weekday(moscow_general, 'Friday', '17:00:00', '23:00:00'), '\\n')\n",
    "\n",
    "print('St. Petersburg Friday')\n",
    "print(genre_weekday(spb_general   , 'Friday', '17:00:00', '23:00:00'), '\\n')"
   ]
  },
  {
   "cell_type": "markdown",
   "metadata": {},
   "source": [
    "**Conclusions:**"
   ]
  },
  {
   "cell_type": "markdown",
   "metadata": {
    "id": "wrCe4MNX_Zcu"
   },
   "source": [
    "If we compare the top 10 genres on a Monday morning, we can draw these conclusions:\n",
    "\n",
    "1. In Moscow and St. Petersburg people listen to similar music. The only difference is that the Moscow rating includes the `world` genre, while the St. Petersburg rating includes `jazz` and `classical` music.\n",
    "\n",
    "2. In Moscow, there were so many missing values that `'unknown'` ranked tenth among the most popular genres. So, the missing values occupy a significant share of the data and threaten the credibility of the study.\n",
    "\n",
    "3. Friday night doesn't change this picture. Some genres go up a little higher, others go down, but overall the top 10 remains the same. "
   ]
  },
  {
   "cell_type": "markdown",
   "metadata": {},
   "source": [
    "Thus, the second hypothesis is only partially confirmed:\n",
    "* Users listen to similar music at the beginning of the week and at the end.\n",
    "* The difference between Moscow and St. Petersburg is not very pronounced. In Moscow they listen to Russian popular music more often, in St. Petersburg - to jazz.\n",
    "\n",
    "However, the missing data call this result into question. There are so many of them in Moscow that the top-10 ranking could look different if not for the missing data on genres."
   ]
  },
  {
   "cell_type": "markdown",
   "metadata": {},
   "source": [
    "### Genre choices in Moscow and St Petersburg"
   ]
  },
  {
   "cell_type": "markdown",
   "metadata": {},
   "source": [
    "*Hypothesis:* St. Petersburg is the rap capital, music of this genre is listened to there more often than in Moscow. And Moscow is a city of contrasts, which, however, is dominated by pop music."
   ]
  },
  {
   "cell_type": "markdown",
   "metadata": {
    "id": "DlegSvaT_Zcu"
   },
   "source": [
    "Group the `moscow_general` and `spb_general` tables by genre and `count` each genre's track. Then `sort` the result in descending order and store it in tables `moscow_genres` and `spb_genres`."
   ]
  },
  {
   "cell_type": "code",
   "execution_count": 21,
   "metadata": {
    "id": "r19lIPke_Zcu"
   },
   "outputs": [
    {
     "name": "stdout",
     "output_type": "stream",
     "text": [
      "Moscow genres\n"
     ]
    },
    {
     "data": {
      "text/plain": [
       "genre\n",
       "pop            5892\n",
       "dance          4435\n",
       "rock           3965\n",
       "electronic     3786\n",
       "hiphop         2096\n",
       "classical      1616\n",
       "world          1432\n",
       "alternative    1379\n",
       "ruspop         1372\n",
       "rusrap         1161\n",
       "Name: genre, dtype: int64"
      ]
     },
     "metadata": {},
     "output_type": "display_data"
    },
    {
     "name": "stdout",
     "output_type": "stream",
     "text": [
      "\n",
      " St. Petersburg genres\n"
     ]
    },
    {
     "data": {
      "text/plain": [
       "genre\n",
       "pop            2431\n",
       "dance          1932\n",
       "rock           1879\n",
       "electronic     1736\n",
       "hiphop          960\n",
       "alternative     649\n",
       "classical       646\n",
       "rusrap          564\n",
       "ruspop          538\n",
       "world           515\n",
       "Name: genre, dtype: int64"
      ]
     },
     "metadata": {},
     "output_type": "display_data"
    }
   ],
   "source": [
    "# Moscow\n",
    "moscow_genres = (moscow_general\n",
    "                              .groupby('genre')['genre']\n",
    "                              .count()\n",
    "                              .sort_values(ascending = False)\n",
    "                )\n",
    "# St. Petersburg\n",
    "spb_genres    = (spb_general\n",
    "                            .groupby('genre')['genre']\n",
    "                            .count()\n",
    "                            .sort_values(ascending = False)\n",
    "                )\n",
    "\n",
    "# get the first 10 gernes\n",
    "print('Moscow genres')\n",
    "display(moscow_genres.head(10)) \n",
    "\n",
    "print('\\n', 'St. Petersburg genres')\n",
    "display(spb_genres.head(10))\n"
   ]
  },
  {
   "cell_type": "markdown",
   "metadata": {
    "id": "cnPG2vnN_Zcv"
   },
   "source": [
    "Now let's repeat the same for St Petersburg."
   ]
  },
  {
   "cell_type": "markdown",
   "metadata": {
    "id": "RY51YJYu_Zcv"
   },
   "source": [
    "**Conclusions**."
   ]
  },
  {
   "cell_type": "markdown",
   "metadata": {
    "id": "nVhnJEm__Zcv"
   },
   "source": [
    "The hypothesis was partly confirmed:\n",
    "* Pop music is the most popular genre in Moscow, as the hypothesis suggested. Moreover, there is a close genre - Russian popular music - in the top 10 genres.\n",
    "* Contrary to expectations, rap is equally popular in Moscow and St. Petersburg. \n"
   ]
  },
  {
   "cell_type": "markdown",
   "metadata": {
    "id": "ykKQ0N65_Zcv"
   },
   "source": [
    "## Results of the study"
   ]
  },
  {
   "cell_type": "markdown",
   "metadata": {},
   "source": [
    "We tested three hypotheses and established"
   ]
  },
  {
   "cell_type": "markdown",
   "metadata": {},
   "source": [
    "1. The day of the week has a different effect on user activity in Moscow and St. Petersburg. The first hypothesis is fully confirmed"
   ]
  },
  {
   "cell_type": "markdown",
   "metadata": {},
   "source": [
    "2. Musical preferences don't change much during the week - whether in Moscow or St Petersburg. Slight differences are noticeable at the beginning of the week, on Mondays:\n",
    "    * In Moscow they listen to world music,\n",
    "    * In St. Petersburg they listen to jazz and classical music.\n",
    "    \n",
    "Thus, the second hypothesis was only partially confirmed. This result might have been different had it not been for the omissions in the data."
   ]
  },
  {
   "cell_type": "markdown",
   "metadata": {},
   "source": [
    "3. The choices of Moscow and St. Petersburg users have more in common than in difference. Contrary to expectations, genre preferences in St Petersburg resemble those in Moscow.\n",
    "\n",
    "The third hypothesis did not hold true. If differences in preferences do exist, they are not noticeable on the bulk of users."
   ]
  }
 ],
 "metadata": {
  "ExecuteTimeLog": [
   {
    "duration": 759,
    "start_time": "2021-10-25T09:37:37.550Z"
   },
   {
    "duration": 200,
    "start_time": "2021-10-25T09:37:42.443Z"
   },
   {
    "duration": 10,
    "start_time": "2021-10-25T09:37:51.477Z"
   },
   {
    "duration": 41,
    "start_time": "2021-10-25T09:38:00.818Z"
   },
   {
    "duration": 13,
    "start_time": "2021-10-25T09:38:14.949Z"
   },
   {
    "duration": 5,
    "start_time": "2021-10-25T09:38:55.791Z"
   },
   {
    "duration": 11,
    "start_time": "2021-10-25T09:38:58.221Z"
   },
   {
    "duration": 32,
    "start_time": "2021-10-25T09:39:10.054Z"
   },
   {
    "duration": 7951,
    "start_time": "2021-10-25T09:40:51.831Z"
   },
   {
    "duration": 6,
    "start_time": "2021-10-25T09:42:31.026Z"
   },
   {
    "duration": 5,
    "start_time": "2021-10-25T09:42:33.535Z"
   },
   {
    "duration": 31,
    "start_time": "2021-10-25T09:42:35.753Z"
   },
   {
    "duration": 31,
    "start_time": "2021-10-25T09:42:39.018Z"
   },
   {
    "duration": 30,
    "start_time": "2021-10-25T09:42:55.887Z"
   },
   {
    "duration": 108,
    "start_time": "2021-10-25T09:43:31.121Z"
   },
   {
    "duration": 113,
    "start_time": "2021-10-25T09:43:43.562Z"
   },
   {
    "duration": 79,
    "start_time": "2021-10-25T09:43:51.449Z"
   },
   {
    "duration": 7,
    "start_time": "2021-10-25T09:44:13.871Z"
   },
   {
    "duration": 4,
    "start_time": "2021-10-25T09:44:39.504Z"
   },
   {
    "duration": 13,
    "start_time": "2021-10-25T09:47:26.821Z"
   },
   {
    "duration": 8,
    "start_time": "2021-10-25T10:07:38.772Z"
   },
   {
    "duration": 4,
    "start_time": "2021-10-25T10:15:39.851Z"
   },
   {
    "duration": 14,
    "start_time": "2021-10-25T10:15:41.292Z"
   },
   {
    "duration": 9,
    "start_time": "2021-10-25T10:16:21.359Z"
   },
   {
    "duration": 37,
    "start_time": "2021-10-25T10:16:53.205Z"
   },
   {
    "duration": 10,
    "start_time": "2021-10-25T10:17:24.775Z"
   },
   {
    "duration": 34,
    "start_time": "2021-10-25T10:17:26.679Z"
   },
   {
    "duration": 382,
    "start_time": "2021-10-25T10:19:01.681Z"
   },
   {
    "duration": 15,
    "start_time": "2021-10-25T10:19:12.104Z"
   },
   {
    "duration": 353,
    "start_time": "2021-10-25T10:20:04.563Z"
   },
   {
    "duration": 301,
    "start_time": "2021-10-25T10:20:10.983Z"
   },
   {
    "duration": 22,
    "start_time": "2021-10-25T10:20:22.526Z"
   },
   {
    "duration": 5,
    "start_time": "2021-10-25T10:28:14.798Z"
   },
   {
    "duration": 7364,
    "start_time": "2021-10-25T10:28:30.705Z"
   },
   {
    "duration": 9,
    "start_time": "2021-10-25T10:28:52.623Z"
   },
   {
    "duration": 21,
    "start_time": "2021-10-25T10:28:56.061Z"
   },
   {
    "duration": 19,
    "start_time": "2021-10-25T10:29:18.667Z"
   },
   {
    "duration": 19,
    "start_time": "2021-10-25T10:30:06.356Z"
   },
   {
    "duration": 26,
    "start_time": "2021-10-25T10:30:35.827Z"
   },
   {
    "duration": 19,
    "start_time": "2021-10-25T10:30:57.557Z"
   },
   {
    "duration": 24,
    "start_time": "2021-10-25T10:31:25.037Z"
   },
   {
    "duration": 26,
    "start_time": "2021-10-25T10:32:19.125Z"
   },
   {
    "duration": 21,
    "start_time": "2021-10-25T10:32:44.611Z"
   },
   {
    "duration": 9,
    "start_time": "2021-10-25T10:34:08.853Z"
   },
   {
    "duration": 5,
    "start_time": "2021-10-25T10:36:11.495Z"
   },
   {
    "duration": 23,
    "start_time": "2021-10-25T10:36:13.712Z"
   },
   {
    "duration": 18,
    "start_time": "2021-10-25T10:36:14.887Z"
   },
   {
    "duration": 19,
    "start_time": "2021-10-25T10:36:16.488Z"
   },
   {
    "duration": 17,
    "start_time": "2021-10-25T10:36:18.297Z"
   },
   {
    "duration": 21,
    "start_time": "2021-10-25T10:36:18.317Z"
   },
   {
    "duration": 17,
    "start_time": "2021-10-25T10:36:18.342Z"
   },
   {
    "duration": 13,
    "start_time": "2021-10-25T10:36:20.344Z"
   },
   {
    "duration": 678,
    "start_time": "2021-10-26T07:46:44.170Z"
   },
   {
    "duration": 145,
    "start_time": "2021-10-26T07:46:45.492Z"
   },
   {
    "duration": 22,
    "start_time": "2021-10-26T07:47:30.484Z"
   },
   {
    "duration": 11,
    "start_time": "2021-10-26T07:53:02.628Z"
   },
   {
    "duration": 24,
    "start_time": "2021-10-26T07:53:10.610Z"
   },
   {
    "duration": 4,
    "start_time": "2021-10-26T07:53:41.732Z"
   },
   {
    "duration": 3,
    "start_time": "2021-10-26T07:53:46.035Z"
   },
   {
    "duration": 3,
    "start_time": "2021-10-26T07:54:17.180Z"
   },
   {
    "duration": 4,
    "start_time": "2021-10-26T07:54:19.331Z"
   },
   {
    "duration": 24,
    "start_time": "2021-10-26T07:54:28.617Z"
   },
   {
    "duration": 21,
    "start_time": "2021-10-26T07:55:29.356Z"
   },
   {
    "duration": 23,
    "start_time": "2021-10-26T07:55:31.756Z"
   },
   {
    "duration": 61,
    "start_time": "2021-10-26T07:55:37.797Z"
   },
   {
    "duration": 76,
    "start_time": "2021-10-26T07:55:45.245Z"
   },
   {
    "duration": 56,
    "start_time": "2021-10-26T07:55:47.187Z"
   },
   {
    "duration": 6,
    "start_time": "2021-10-26T07:55:55.404Z"
   },
   {
    "duration": 3,
    "start_time": "2021-10-26T07:56:08.507Z"
   },
   {
    "duration": 11,
    "start_time": "2021-10-26T07:56:16.421Z"
   },
   {
    "duration": 6,
    "start_time": "2021-10-26T07:56:18.637Z"
   },
   {
    "duration": 22,
    "start_time": "2021-10-26T07:56:25.677Z"
   },
   {
    "duration": 13,
    "start_time": "2021-10-26T07:57:05.028Z"
   },
   {
    "duration": 12,
    "start_time": "2021-10-26T07:57:06.860Z"
   },
   {
    "duration": 11,
    "start_time": "2021-10-26T07:57:22.581Z"
   },
   {
    "duration": 12,
    "start_time": "2021-10-26T07:57:37.974Z"
   },
   {
    "duration": 10,
    "start_time": "2021-10-26T07:57:50.988Z"
   },
   {
    "duration": 12,
    "start_time": "2021-10-26T07:57:55.572Z"
   },
   {
    "duration": 11,
    "start_time": "2021-10-26T07:58:08.399Z"
   },
   {
    "duration": 3,
    "start_time": "2021-10-26T07:59:35.369Z"
   },
   {
    "duration": 4,
    "start_time": "2021-10-26T08:00:40.383Z"
   },
   {
    "duration": 22,
    "start_time": "2021-10-26T08:00:41.615Z"
   },
   {
    "duration": 16,
    "start_time": "2021-10-26T08:00:42.384Z"
   },
   {
    "duration": 17,
    "start_time": "2021-10-26T08:00:43.033Z"
   },
   {
    "duration": 15,
    "start_time": "2021-10-26T08:00:45.094Z"
   },
   {
    "duration": 18,
    "start_time": "2021-10-26T08:00:45.649Z"
   },
   {
    "duration": 16,
    "start_time": "2021-10-26T08:00:46.560Z"
   },
   {
    "duration": 7,
    "start_time": "2021-10-26T08:00:48.336Z"
   },
   {
    "duration": 9,
    "start_time": "2021-10-26T08:01:03.222Z"
   },
   {
    "duration": 19,
    "start_time": "2021-10-26T08:03:19.929Z"
   },
   {
    "duration": 18,
    "start_time": "2021-10-26T08:03:57.946Z"
   },
   {
    "duration": 418,
    "start_time": "2021-10-26T08:09:34.394Z"
   },
   {
    "duration": 4,
    "start_time": "2021-10-26T08:10:00.905Z"
   },
   {
    "duration": 18,
    "start_time": "2021-10-26T08:10:02.840Z"
   },
   {
    "duration": 17,
    "start_time": "2021-10-26T08:10:35.548Z"
   },
   {
    "duration": 18,
    "start_time": "2021-10-26T08:10:42.873Z"
   },
   {
    "duration": 14,
    "start_time": "2021-10-26T08:10:46.233Z"
   },
   {
    "duration": 18,
    "start_time": "2021-10-26T08:11:05.273Z"
   },
   {
    "duration": 14,
    "start_time": "2021-10-26T08:11:06.153Z"
   },
   {
    "duration": 401,
    "start_time": "2021-10-26T08:11:39.362Z"
   },
   {
    "duration": 9,
    "start_time": "2021-10-26T08:11:48.210Z"
   },
   {
    "duration": 6,
    "start_time": "2021-10-26T08:12:19.475Z"
   },
   {
    "duration": 6,
    "start_time": "2021-10-26T08:12:47.964Z"
   },
   {
    "duration": 5,
    "start_time": "2021-10-26T08:12:49.115Z"
   },
   {
    "duration": 667,
    "start_time": "2021-10-26T12:43:28.917Z"
   },
   {
    "duration": 189,
    "start_time": "2021-10-26T12:43:29.587Z"
   },
   {
    "duration": 32,
    "start_time": "2021-10-26T12:43:29.779Z"
   },
   {
    "duration": 41,
    "start_time": "2021-10-26T12:43:29.823Z"
   },
   {
    "duration": 6,
    "start_time": "2021-10-26T12:43:29.866Z"
   },
   {
    "duration": 7,
    "start_time": "2021-10-26T12:43:29.875Z"
   },
   {
    "duration": 39,
    "start_time": "2021-10-26T12:43:29.885Z"
   },
   {
    "duration": 32,
    "start_time": "2021-10-26T12:43:29.928Z"
   },
   {
    "duration": 26,
    "start_time": "2021-10-26T12:43:29.963Z"
   },
   {
    "duration": 57,
    "start_time": "2021-10-26T12:43:29.991Z"
   },
   {
    "duration": 106,
    "start_time": "2021-10-26T12:43:30.051Z"
   },
   {
    "duration": 122,
    "start_time": "2021-10-26T12:43:30.160Z"
   },
   {
    "duration": 94,
    "start_time": "2021-10-26T12:43:30.285Z"
   },
   {
    "duration": 10,
    "start_time": "2021-10-26T12:43:30.381Z"
   },
   {
    "duration": 16,
    "start_time": "2021-10-26T12:43:30.394Z"
   },
   {
    "duration": 31,
    "start_time": "2021-10-26T12:43:30.412Z"
   },
   {
    "duration": 10,
    "start_time": "2021-10-26T12:43:30.446Z"
   },
   {
    "duration": 46,
    "start_time": "2021-10-26T12:43:30.458Z"
   },
   {
    "duration": 28,
    "start_time": "2021-10-26T12:43:30.506Z"
   },
   {
    "duration": 17,
    "start_time": "2021-10-26T12:43:30.536Z"
   },
   {
    "duration": 12,
    "start_time": "2021-10-26T12:43:30.556Z"
   },
   {
    "duration": 42,
    "start_time": "2021-10-26T12:43:30.570Z"
   },
   {
    "duration": 19,
    "start_time": "2021-10-26T12:43:30.625Z"
   },
   {
    "duration": 39,
    "start_time": "2021-10-26T12:43:30.647Z"
   },
   {
    "duration": 25,
    "start_time": "2021-10-26T12:43:30.689Z"
   },
   {
    "duration": 35,
    "start_time": "2021-10-26T12:43:30.716Z"
   },
   {
    "duration": 29,
    "start_time": "2021-10-26T12:43:30.754Z"
   },
   {
    "duration": 50,
    "start_time": "2021-10-26T12:43:30.785Z"
   },
   {
    "duration": 41,
    "start_time": "2021-10-26T12:43:30.837Z"
   },
   {
    "duration": 60,
    "start_time": "2021-10-26T12:43:30.881Z"
   },
   {
    "duration": 35,
    "start_time": "2021-10-26T12:43:30.943Z"
   },
   {
    "duration": 6,
    "start_time": "2021-10-26T12:43:30.981Z"
   },
   {
    "duration": 47,
    "start_time": "2021-10-26T12:43:30.989Z"
   },
   {
    "duration": 20,
    "start_time": "2021-10-26T12:43:31.039Z"
   },
   {
    "duration": 32,
    "start_time": "2021-10-26T12:43:31.063Z"
   },
   {
    "duration": 31,
    "start_time": "2021-10-26T12:43:31.098Z"
   },
   {
    "duration": 32,
    "start_time": "2021-10-26T12:43:31.131Z"
   },
   {
    "duration": 14,
    "start_time": "2021-10-26T12:43:31.165Z"
   },
   {
    "duration": 18,
    "start_time": "2021-10-26T12:43:31.181Z"
   },
   {
    "duration": 21,
    "start_time": "2021-10-26T12:43:31.202Z"
   },
   {
    "duration": 320,
    "start_time": "2021-10-28T07:38:37.097Z"
   },
   {
    "duration": 818,
    "start_time": "2021-10-28T07:38:42.182Z"
   },
   {
    "duration": 184,
    "start_time": "2021-10-28T07:38:43.567Z"
   },
   {
    "duration": 28,
    "start_time": "2021-10-28T07:38:45.892Z"
   },
   {
    "duration": 26,
    "start_time": "2021-10-28T07:41:41.304Z"
   },
   {
    "duration": 6,
    "start_time": "2021-10-28T07:41:43.889Z"
   },
   {
    "duration": 29,
    "start_time": "2021-10-28T07:41:55.171Z"
   },
   {
    "duration": 6,
    "start_time": "2021-10-28T07:41:57.128Z"
   },
   {
    "duration": 30,
    "start_time": "2021-10-28T07:41:59.144Z"
   },
   {
    "duration": 24,
    "start_time": "2021-10-28T07:42:04.457Z"
   },
   {
    "duration": 30,
    "start_time": "2021-10-28T07:42:15.433Z"
   },
   {
    "duration": 86,
    "start_time": "2021-10-28T07:42:17.448Z"
   },
   {
    "duration": 99,
    "start_time": "2021-10-28T07:42:19.935Z"
   },
   {
    "duration": 80,
    "start_time": "2021-10-28T07:42:21.311Z"
   },
   {
    "duration": 8,
    "start_time": "2021-10-28T07:42:23.360Z"
   },
   {
    "duration": 4,
    "start_time": "2021-10-28T07:42:27.311Z"
   },
   {
    "duration": 16,
    "start_time": "2021-10-28T07:42:28.566Z"
   },
   {
    "duration": 11,
    "start_time": "2021-10-28T07:42:48.929Z"
   },
   {
    "duration": 33,
    "start_time": "2021-10-28T07:42:50.913Z"
   },
   {
    "duration": 15,
    "start_time": "2021-10-28T07:42:55.113Z"
   },
   {
    "duration": 14,
    "start_time": "2021-10-28T07:42:56.175Z"
   },
   {
    "duration": 6,
    "start_time": "2021-10-28T07:42:57.697Z"
   },
   {
    "duration": 20,
    "start_time": "2021-10-28T07:42:58.993Z"
   },
   {
    "duration": 18,
    "start_time": "2021-10-28T07:42:59.505Z"
   },
   {
    "duration": 18,
    "start_time": "2021-10-28T07:42:59.935Z"
   },
   {
    "duration": 19,
    "start_time": "2021-10-28T07:43:00.335Z"
   },
   {
    "duration": 20,
    "start_time": "2021-10-28T07:43:00.713Z"
   },
   {
    "duration": 18,
    "start_time": "2021-10-28T07:43:01.313Z"
   },
   {
    "duration": 13,
    "start_time": "2021-10-28T07:43:03.413Z"
   },
   {
    "duration": 12,
    "start_time": "2021-10-28T07:43:13.481Z"
   },
   {
    "duration": 11,
    "start_time": "2021-10-28T07:43:37.064Z"
   },
   {
    "duration": 11,
    "start_time": "2021-10-28T07:43:51.338Z"
   },
   {
    "duration": 26,
    "start_time": "2021-10-28T07:43:54.327Z"
   },
   {
    "duration": 24,
    "start_time": "2021-10-28T07:43:55.296Z"
   },
   {
    "duration": 32,
    "start_time": "2021-10-28T07:44:07.098Z"
   },
   {
    "duration": 27,
    "start_time": "2021-10-28T07:44:17.467Z"
   },
   {
    "duration": 6,
    "start_time": "2021-10-28T07:44:23.764Z"
   },
   {
    "duration": 26,
    "start_time": "2021-10-28T07:44:25.234Z"
   },
   {
    "duration": 18,
    "start_time": "2021-10-28T07:44:26.257Z"
   },
   {
    "duration": 25,
    "start_time": "2021-10-28T07:44:26.849Z"
   },
   {
    "duration": 18,
    "start_time": "2021-10-28T07:44:27.586Z"
   },
   {
    "duration": 11,
    "start_time": "2021-10-28T07:44:32.411Z"
   },
   {
    "duration": 7,
    "start_time": "2021-10-28T07:44:33.498Z"
   },
   {
    "duration": 9,
    "start_time": "2021-10-28T07:44:38.451Z"
   },
   {
    "duration": 7,
    "start_time": "2021-10-28T07:44:39.208Z"
   }
  ],
  "colab": {
   "collapsed_sections": [
    "E0vqbgi9ay0H",
    "VUC88oWjTJw2"
   ],
   "name": "yandex_music_project_2021.2.ipynb",
   "provenance": []
  },
  "kernelspec": {
   "display_name": "Python 3",
   "language": "python",
   "name": "python3"
  },
  "language_info": {
   "codemirror_mode": {
    "name": "ipython",
    "version": 3
   },
   "file_extension": ".py",
   "mimetype": "text/x-python",
   "name": "python",
   "nbconvert_exporter": "python",
   "pygments_lexer": "ipython3",
   "version": "3.8.3"
  },
  "toc": {
   "base_numbering": 1,
   "nav_menu": {},
   "number_sections": true,
   "sideBar": true,
   "skip_h1_title": true,
   "title_cell": "Table of Contents",
   "title_sidebar": "Contents",
   "toc_cell": false,
   "toc_position": {
    "height": "calc(100% - 180px)",
    "left": "10px",
    "top": "150px",
    "width": "384px"
   },
   "toc_section_display": true,
   "toc_window_display": true
  },
  "varInspector": {
   "cols": {
    "lenName": 16,
    "lenType": 16,
    "lenVar": 40
   },
   "kernels_config": {
    "python": {
     "delete_cmd_postfix": "",
     "delete_cmd_prefix": "del ",
     "library": "var_list.py",
     "varRefreshCmd": "print(var_dic_list())"
    },
    "r": {
     "delete_cmd_postfix": ") ",
     "delete_cmd_prefix": "rm(",
     "library": "var_list.r",
     "varRefreshCmd": "cat(var_dic_list()) "
    }
   },
   "types_to_exclude": [
    "module",
    "function",
    "builtin_function_or_method",
    "instance",
    "_Feature"
   ],
   "window_display": false
  }
 },
 "nbformat": 4,
 "nbformat_minor": 1
}
